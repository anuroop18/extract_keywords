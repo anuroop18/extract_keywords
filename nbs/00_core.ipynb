{
 "cells": [
  {
   "cell_type": "markdown",
   "metadata": {},
   "source": [
    "# core\n",
    "\n",
    "> contains functions to extract keywords"
   ]
  },
  {
   "cell_type": "code",
   "execution_count": 19,
   "metadata": {},
   "outputs": [],
   "source": [
    "#| default_exp core"
   ]
  },
  {
   "cell_type": "code",
   "execution_count": 20,
   "metadata": {},
   "outputs": [],
   "source": [
    "#| hide\n",
    "from nbdev.showdoc import *"
   ]
  },
  {
   "cell_type": "code",
   "execution_count": 21,
   "metadata": {},
   "outputs": [],
   "source": [
    "#| export\n",
    "import pandas as pd\n",
    "import numpy as np\n",
    "import gradio as gr\n",
    "from sentence_transformers import SentenceTransformer\n",
    "from keybert import KeyBERT\n",
    "from keyphrase_vectorizers import KeyphraseCountVectorizer\n",
    "from functools import partial"
   ]
  },
  {
   "cell_type": "code",
   "execution_count": 22,
   "metadata": {},
   "outputs": [],
   "source": [
    "#| export\n",
    "def read_in_text(file_path:str): # path of text file\n",
    "    \"Read in the text file\"\n",
    "    with open(file_path, 'r') as f: return f.read()"
   ]
  },
  {
   "cell_type": "code",
   "execution_count": 23,
   "metadata": {},
   "outputs": [],
   "source": [
    "#| export\n",
    "def is_word_in_range(word:str, # input word\n",
    "                     min_len:int, # Min length of word\n",
    "                     max_len:int): # Max length of word\n",
    "    \"returns True if word is in range (min_len, max_len) both inclusive\"\n",
    "    if (len(word) <= max_len) and (len(word) >= min_len): return True\n",
    "    else: return False"
   ]
  },
  {
   "cell_type": "markdown",
   "metadata": {},
   "source": [
    "Example usage of extract_keywords"
   ]
  },
  {
   "cell_type": "code",
   "execution_count": 24,
   "metadata": {},
   "outputs": [],
   "source": [
    "from functools import partial"
   ]
  },
  {
   "cell_type": "code",
   "execution_count": 25,
   "metadata": {},
   "outputs": [],
   "source": [
    "is_word_in_range = partial(is_word_in_range, min_len=4, max_len=16)"
   ]
  },
  {
   "cell_type": "code",
   "execution_count": 26,
   "metadata": {},
   "outputs": [
    {
     "data": {
      "text/plain": [
       "True"
      ]
     },
     "execution_count": 26,
     "metadata": {},
     "output_type": "execute_result"
    }
   ],
   "source": [
    "# For single word\n",
    "is_word_in_range(\"Elephant\")"
   ]
  },
  {
   "cell_type": "code",
   "execution_count": 27,
   "metadata": {},
   "outputs": [
    {
     "data": {
      "text/plain": [
       "False"
      ]
     },
     "execution_count": 27,
     "metadata": {},
     "output_type": "execute_result"
    }
   ],
   "source": [
    "is_word_in_range(\"Elephant Rhinoceros Octopus\")"
   ]
  },
  {
   "cell_type": "code",
   "execution_count": 28,
   "metadata": {},
   "outputs": [
    {
     "data": {
      "text/plain": [
       "[True, True, True, True, True, True, False]"
      ]
     },
     "execution_count": 28,
     "metadata": {},
     "output_type": "execute_result"
    }
   ],
   "source": [
    "# For list of words\n",
    "words = ['new moon', 'half moon', 'moon', 'lunar month', 'waxing crescent', 'distinct phases', 'crazy red moon in space']\n",
    "[is_word_in_range(word) for word in words]"
   ]
  },
  {
   "cell_type": "code",
   "execution_count": 29,
   "metadata": {},
   "outputs": [],
   "source": [
    "#| export\n",
    "def remove_singular_words(word_list:list): # List of words\n",
    "    \"Removes singular words when they have a corresponding plural word in a list of words.\"\n",
    "    plural_words = set()\n",
    "    singular_words = []\n",
    "    \n",
    "    for word in word_list:\n",
    "        # Check if the word is in plural form by adding 's'\n",
    "        plural_form = word + 's'\n",
    "        \n",
    "        if plural_form in word_list:\n",
    "            # If the plural form is in the list, add it to the set of plural words\n",
    "            plural_words.add(plural_form)\n",
    "        else:\n",
    "            # If the word is not in plural form, add it to the list of singular words\n",
    "            singular_words.append(word)\n",
    "    \n",
    "    return singular_words"
   ]
  },
  {
   "cell_type": "markdown",
   "metadata": {},
   "source": [
    "Example showing how to remove singular words if both singular and plural is present in list"
   ]
  },
  {
   "cell_type": "code",
   "execution_count": 30,
   "metadata": {},
   "outputs": [
    {
     "name": "stdout",
     "output_type": "stream",
     "text": [
      "['dog', 'cats', 'apples']\n"
     ]
    }
   ],
   "source": [
    "word_list = ['cat', 'dog', 'cats', 'apples', 'apple']\n",
    "result = remove_singular_words(word_list)\n",
    "print(result)  # Output: ['dog', 'apples']"
   ]
  },
  {
   "cell_type": "code",
   "execution_count": 31,
   "metadata": {},
   "outputs": [],
   "source": [
    "#| export\n",
    "def extract_keywords(text:str, # input text\n",
    "                     n:int, # number of keywords\n",
    "                     min_len:int, # minimum length of word\n",
    "                     max_len:int): # maximum length of word\n",
    "    \"Extract n keywords from text in range (min_len, max_len) both inclusive\"\n",
    "    kw_extractor = KeyBERT('valurank/MiniLM-L6-Keyword-Extraction')\n",
    "    keywords = kw_extractor.extract_keywords(text, vectorizer=KeyphraseCountVectorizer(), stop_words=None, top_n=n*2)\n",
    "    keywords = [i for i,j in keywords] #removing confidence score\n",
    "    keywords = remove_singular_words(keywords)\n",
    "    keywords = [word for word in keywords if is_word_in_range(word, min_len=4, max_len=16)]\n",
    "    return keywords[:n]"
   ]
  },
  {
   "cell_type": "markdown",
   "metadata": {},
   "source": [
    "Sample text for extracting keywords"
   ]
  },
  {
   "cell_type": "code",
   "execution_count": 32,
   "metadata": {},
   "outputs": [],
   "source": [
    "text = \"\"\"\n",
    "The moon is Earth's only natural satellite, and it plays a\n",
    "significant role in our lives. One of the fascinating things about\n",
    "the moon is the way it changes shape throughout the month.\n",
    "These changes are called the phases of the moon. There are\n",
    "eight distinct phases, and each phase has its own unique\n",
    "appearance and name.\n",
    "The first phase of the moon is called the New Moon. During\n",
    "this phase, the moon is not visible from Earth because the side\n",
    "of the moon that faces us is not illuminated by the sun. It is a\n",
    "dark circle in the sky. The New Moon marks the beginning of\n",
    "the lunar month.\n",
    "The second phase is the Waxing Crescent. It occurs a few days after the New Moon.\n",
    "During this phase, a small sliver of the moon becomes visible. The illuminated part of the\n",
    "moon slowly increases each night.\n",
    "Next comes the First Quarter, also known as the Half Moon. This phase occurs about a\n",
    "week after the New Moon. During this phase, half of the moon is visible from Earth. It\n",
    "looks like a semicircle in the sky.\n",
    "\"\"\""
   ]
  },
  {
   "cell_type": "code",
   "execution_count": 33,
   "metadata": {},
   "outputs": [
    {
     "data": {
      "text/plain": [
       "['new moon',\n",
       " 'half moon',\n",
       " 'moon',\n",
       " 'lunar month',\n",
       " 'waxing crescent',\n",
       " 'distinct phases',\n",
       " 'phases',\n",
       " 'second phase',\n",
       " 'first phase',\n",
       " 'illuminated part']"
      ]
     },
     "execution_count": 33,
     "metadata": {},
     "output_type": "execute_result"
    }
   ],
   "source": [
    "keywords = extract_keywords(text=text, n=10, min_len=4, max_len=16)\n",
    "keywords"
   ]
  },
  {
   "cell_type": "code",
   "execution_count": 34,
   "metadata": {},
   "outputs": [],
   "source": [
    "#| hide\n",
    "import nbdev; nbdev.nbdev_export()"
   ]
  }
 ],
 "metadata": {
  "kernelspec": {
   "display_name": "Python 3 (ipykernel)",
   "language": "python",
   "name": "python3"
  },
  "language_info": {
   "codemirror_mode": {
    "name": "ipython",
    "version": 3
   },
   "file_extension": ".py",
   "mimetype": "text/x-python",
   "name": "python",
   "nbconvert_exporter": "python",
   "pygments_lexer": "ipython3",
   "version": "3.10.12"
  }
 },
 "nbformat": 4,
 "nbformat_minor": 4
}
