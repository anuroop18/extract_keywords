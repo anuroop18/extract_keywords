{
 "cells": [
  {
   "cell_type": "markdown",
   "metadata": {},
   "source": [
    "# core\n",
    "\n",
    "> contains functions to extract keywords"
   ]
  },
  {
   "cell_type": "code",
   "execution_count": null,
   "metadata": {},
   "outputs": [],
   "source": [
    "#| default_exp core"
   ]
  },
  {
   "cell_type": "code",
   "execution_count": null,
   "metadata": {},
   "outputs": [],
   "source": [
    "#| hide\n",
    "from nbdev.showdoc import *"
   ]
  },
  {
   "cell_type": "code",
   "execution_count": null,
   "metadata": {},
   "outputs": [
    {
     "name": "stderr",
     "output_type": "stream",
     "text": [
      "/mnt/e/Projects/Private Projects & Archive/Reading Comprehension Generator/keyword_and_keyphrase_extraction/env/lib/python3.10/site-packages/tqdm/auto.py:21: TqdmWarning: IProgress not found. Please update jupyter and ipywidgets. See https://ipywidgets.readthedocs.io/en/stable/user_install.html\n",
      "  from .autonotebook import tqdm as notebook_tqdm\n"
     ]
    }
   ],
   "source": [
    "#| export\n",
    "import pandas as pd\n",
    "import numpy as np\n",
    "from sentence_transformers import SentenceTransformer\n",
    "from keybert import KeyBERT\n",
    "from keyphrase_vectorizers import KeyphraseCountVectorizer\n",
    "from functools import partial"
   ]
  },
  {
   "cell_type": "code",
   "execution_count": null,
   "metadata": {},
   "outputs": [],
   "source": [
    "#| export\n",
    "def read_in_text(file_path:str): # path of text file\n",
    "    \"Read in the text file\"\n",
    "    with open(file_path, 'r') as f: return f.read()"
   ]
  },
  {
   "cell_type": "code",
   "execution_count": null,
   "metadata": {},
   "outputs": [],
   "source": [
    "#| export\n",
    "def is_word_in_range(word:str, # input word\n",
    "                     min_len:int, # Min length of word\n",
    "                     max_len:int): # Max length of word\n",
    "    \"returns True if word is in range (min_len, max_len) both inclusive\"\n",
    "    if (len(word) <= max_len) and (len(word) >= min_len): return True\n",
    "    else: return False"
   ]
  },
  {
   "cell_type": "markdown",
   "metadata": {},
   "source": [
    "Example usage of extract_keywords"
   ]
  },
  {
   "cell_type": "code",
   "execution_count": null,
   "metadata": {},
   "outputs": [],
   "source": [
    "from functools import partial"
   ]
  },
  {
   "cell_type": "code",
   "execution_count": null,
   "metadata": {},
   "outputs": [],
   "source": [
    "is_word_in_range = partial(is_word_in_range, min_len=4, max_len=16)"
   ]
  },
  {
   "cell_type": "code",
   "execution_count": null,
   "metadata": {},
   "outputs": [
    {
     "data": {
      "text/plain": [
       "True"
      ]
     },
     "execution_count": null,
     "metadata": {},
     "output_type": "execute_result"
    }
   ],
   "source": [
    "# For single word\n",
    "is_word_in_range(\"Elephant\")"
   ]
  },
  {
   "cell_type": "code",
   "execution_count": null,
   "metadata": {},
   "outputs": [
    {
     "data": {
      "text/plain": [
       "False"
      ]
     },
     "execution_count": null,
     "metadata": {},
     "output_type": "execute_result"
    }
   ],
   "source": [
    "is_word_in_range(\"Elephant Rhinoceros Octopus\")"
   ]
  },
  {
   "cell_type": "code",
   "execution_count": null,
   "metadata": {},
   "outputs": [
    {
     "data": {
      "text/plain": [
       "[True, True, True, True, True, True, False]"
      ]
     },
     "execution_count": null,
     "metadata": {},
     "output_type": "execute_result"
    }
   ],
   "source": [
    "# For list of words\n",
    "words = ['new moon', 'half moon', 'moon', 'lunar month', 'waxing crescent', 'distinct phases', 'crazy red moon in space']\n",
    "[is_word_in_range(word) for word in words]"
   ]
  },
  {
   "cell_type": "code",
   "execution_count": null,
   "metadata": {},
   "outputs": [],
   "source": [
    "#| export\n",
    "def remove_singular_words(word_list:list): # List of words\n",
    "    \"Removes singular words when they have a corresponding plural word in a list of words.\"\n",
    "    plural_words = set()\n",
    "    singular_words = []\n",
    "    \n",
    "    for word in word_list:\n",
    "        # Check if the word is in plural form by adding 's'\n",
    "        plural_form = word + 's'\n",
    "        \n",
    "        if plural_form in word_list:\n",
    "            # If the plural form is in the list, add it to the set of plural words\n",
    "            plural_words.add(plural_form)\n",
    "        else:\n",
    "            # If the word is not in plural form, add it to the list of singular words\n",
    "            singular_words.append(word)\n",
    "    \n",
    "    return singular_words"
   ]
  },
  {
   "cell_type": "markdown",
   "metadata": {},
   "source": [
    "Example showing how to remove singular words if both singular and plural is present in list"
   ]
  },
  {
   "cell_type": "code",
   "execution_count": null,
   "metadata": {},
   "outputs": [
    {
     "name": "stdout",
     "output_type": "stream",
     "text": [
      "['dog', 'cats', 'apples']\n"
     ]
    }
   ],
   "source": [
    "word_list = ['cat', 'dog', 'cats', 'apples', 'apple']\n",
    "result = remove_singular_words(word_list)\n",
    "print(result)  # Output: ['dog', 'apples']"
   ]
  },
  {
   "cell_type": "code",
   "execution_count": null,
   "metadata": {},
   "outputs": [],
   "source": [
    "#| export\n",
    "def word_contains_numbers(word:str): # input word\n",
    "    \"returns True if word contains numbers, False otherwise.\"\n",
    "    return any(char.isdigit() for char in word)        "
   ]
  },
  {
   "cell_type": "markdown",
   "metadata": {},
   "source": [
    "Example use of `word_contains_numbers` function"
   ]
  },
  {
   "cell_type": "code",
   "execution_count": null,
   "metadata": {},
   "outputs": [
    {
     "data": {
      "text/plain": [
       "True"
      ]
     },
     "execution_count": null,
     "metadata": {},
     "output_type": "execute_result"
    }
   ],
   "source": [
    "word = \"Hello123\"\n",
    "word_contains_numbers(word)"
   ]
  },
  {
   "cell_type": "code",
   "execution_count": null,
   "metadata": {},
   "outputs": [
    {
     "data": {
      "text/plain": [
       "['apple',\n",
       " 'banana',\n",
       " 'cherry',\n",
       " 'grape',\n",
       " 'watermelon',\n",
       " 'orange juice',\n",
       " 'strawberry jam']"
      ]
     },
     "execution_count": null,
     "metadata": {},
     "output_type": "execute_result"
    }
   ],
   "source": [
    "mixed_list = [\"apple\", \"banana\", \"cherry\", \"grape\", \"watermelon\", \"2% milk\", \"orange juice\", \"3 eggs\", \"strawberry jam\", \"4 potatoes\"]\n",
    "[word for word in mixed_list if not word_contains_numbers(word)]"
   ]
  },
  {
   "cell_type": "code",
   "execution_count": null,
   "metadata": {},
   "outputs": [],
   "source": [
    "#| export\n",
    "def remove_duplicates_preserve_order(input_list:list):\n",
    "    \"removes duplicate items from a list while preserving order\"\n",
    "    return [x for i, x in enumerate(input_list) if x not in input_list[:i]]"
   ]
  },
  {
   "cell_type": "code",
   "execution_count": null,
   "metadata": {},
   "outputs": [
    {
     "data": {
      "text/plain": [
       "[3, 2, 1, 4, 5, 6, 'apple', 'fruit', 'banana']"
      ]
     },
     "execution_count": null,
     "metadata": {},
     "output_type": "execute_result"
    }
   ],
   "source": [
    "# Example usage:\n",
    "my_list = [3, 2, 1, 2, 3, 4, 5, 4, 6, 'apple', 'fruit', 'apple', 'banana']\n",
    "remove_duplicates_preserve_order(my_list)"
   ]
  },
  {
   "cell_type": "code",
   "execution_count": null,
   "metadata": {},
   "outputs": [],
   "source": [
    "#| export\n",
    "def split_compound_words(input_list:list): # list of words\n",
    "    \"returns a new list made after splitting all the compound words, removing duplicate items. Preserves order.\"\n",
    "    result = []\n",
    "    for item in input_list: result.extend(item.split())\n",
    "    result = remove_duplicates_preserve_order(result)\n",
    "    return result"
   ]
  },
  {
   "cell_type": "code",
   "execution_count": null,
   "metadata": {},
   "outputs": [
    {
     "data": {
      "text/plain": [
       "['apple',\n",
       " 'banana',\n",
       " '2%',\n",
       " 'milk',\n",
       " 'orange',\n",
       " 'juice',\n",
       " 'strawberry',\n",
       " 'jam',\n",
       " '4',\n",
       " 'potatoes',\n",
       " 'internet',\n",
       " 'speedy',\n",
       " 'byke']"
      ]
     },
     "execution_count": null,
     "metadata": {},
     "output_type": "execute_result"
    }
   ],
   "source": [
    "# Example usage:\n",
    "mixed_list = [\"apple\", \"banana\", \"2% milk\", \"orange juice\", \"strawberry jam\", \"4 potatoes\", \"internet\", \"speedy internet\", \"byke jam\"]\n",
    "split_compound_words(mixed_list)"
   ]
  },
  {
   "cell_type": "code",
   "execution_count": null,
   "metadata": {},
   "outputs": [],
   "source": [
    "#| export\n",
    "def generate_keywords(text:str, # input text\n",
    "                      max_len:int, # maximum length of word\n",
    "                     n:int=10, # number of keywords\n",
    "                     min_len:int=3, # minimum length of word\n",
    "                      compound_words=True, # include combination of words\n",
    "                    keywords_with_numbers=True): # include those keywords that contain number\n",
    "    \"Extract n keywords from text in range (min_len, max_len) both inclusive\"\n",
    "    kw_extractor = KeyBERT('valurank/MiniLM-L6-Keyword-Extraction')\n",
    "    keywords = kw_extractor.extract_keywords(text, vectorizer=KeyphraseCountVectorizer(), stop_words=None, top_n=n*2)\n",
    "    keywords = [i for i,j in keywords] #removing confidence score\n",
    "    if compound_words is False: keywords = split_compound_words(keywords) #removing compound words\n",
    "    if keywords_with_numbers is False: keywords = [word for word in keywords if not word_contains_numbers(word)] #removing keywords with numbers\n",
    "    keywords = remove_singular_words(keywords) #removing one of singluar/plural combination\n",
    "    keywords = [word for word in keywords if is_word_in_range(word, min_len=min_len, max_len=max_len)] #removing words that are out of range\n",
    "    return keywords[:n]"
   ]
  },
  {
   "cell_type": "markdown",
   "metadata": {},
   "source": [
    "Sample text for extracting keywords"
   ]
  },
  {
   "cell_type": "code",
   "execution_count": null,
   "metadata": {},
   "outputs": [],
   "source": [
    "text = \"In the 21st century, technology has rapidly advanced, bringing about significant changes in various industries. The digital revolution has led to the creation of smartphones, which have become an integral part of our daily lives. These devices offer a wide range of capabilities, from high-resolution cameras to powerful processors. Additionally, the internet has connected billions of people worldwide, enabling instant communication and access to a vast repository of information. Data analytics, driven by algorithms and machine learning, has revolutionized decision-making processes in business and science. With the advent of 5G technology, internet speeds have soared, paving the way for innovations like autonomous vehicles and the Internet of Things (IoT). As we continue into the 21st century, these technological advancements will shape our future in ways we can only begin to imagine.\""
   ]
  },
  {
   "cell_type": "code",
   "execution_count": null,
   "metadata": {},
   "outputs": [
    {
     "data": {
      "text/plain": [
       "['smartphones',\n",
       " 'internet speeds',\n",
       " 'internet',\n",
       " 'data analytics',\n",
       " 'devices',\n",
       " 'technology',\n",
       " '21st century',\n",
       " 'information',\n",
       " 'future',\n",
       " 'algorithms']"
      ]
     },
     "execution_count": null,
     "metadata": {},
     "output_type": "execute_result"
    }
   ],
   "source": [
    "# include keywords that has numbers\n",
    "generate_keywords(text=text, n=10, min_len=4, max_len=15, keywords_with_numbers=True)"
   ]
  },
  {
   "cell_type": "code",
   "execution_count": null,
   "metadata": {},
   "outputs": [
    {
     "data": {
      "text/plain": [
       "['smartphones',\n",
       " 'internet speeds',\n",
       " 'internet',\n",
       " 'data analytics',\n",
       " 'devices',\n",
       " 'technology',\n",
       " 'information',\n",
       " 'future',\n",
       " 'algorithms',\n",
       " 'innovations']"
      ]
     },
     "execution_count": null,
     "metadata": {},
     "output_type": "execute_result"
    }
   ],
   "source": [
    "# don't include keywords that has numbers\n",
    "generate_keywords(text=text, n=10, min_len=4, max_len=15, keywords_with_numbers=False)"
   ]
  },
  {
   "cell_type": "code",
   "execution_count": null,
   "metadata": {},
   "outputs": [
    {
     "data": {
      "text/plain": [
       "['smartphones',\n",
       " 'internet',\n",
       " 'speeds',\n",
       " 'digital',\n",
       " 'revolution',\n",
       " 'machine',\n",
       " 'learning',\n",
       " 'data',\n",
       " 'analytics',\n",
       " 'technological']"
      ]
     },
     "execution_count": null,
     "metadata": {},
     "output_type": "execute_result"
    }
   ],
   "source": [
    "# split compound words and don't include keywords that has numbers\n",
    "generate_keywords(text=text, n=10, min_len=4, max_len=15, keywords_with_numbers=False, compound_words=False)"
   ]
  },
  {
   "cell_type": "code",
   "execution_count": null,
   "metadata": {},
   "outputs": [],
   "source": [
    "#| hide\n",
    "import nbdev; nbdev.nbdev_export()"
   ]
  },
  {
   "cell_type": "code",
   "execution_count": null,
   "metadata": {},
   "outputs": [],
   "source": []
  }
 ],
 "metadata": {
  "kernelspec": {
   "display_name": "python3",
   "language": "python",
   "name": "python3"
  }
 },
 "nbformat": 4,
 "nbformat_minor": 4
}
